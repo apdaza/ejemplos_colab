{
  "nbformat": 4,
  "nbformat_minor": 0,
  "metadata": {
    "colab": {
      "provenance": []
    },
    "kernelspec": {
      "name": "python3",
      "display_name": "Python 3"
    },
    "language_info": {
      "name": "python"
    }
  },
  "cells": [
    {
      "cell_type": "code",
      "execution_count": null,
      "metadata": {
        "id": "_4PP0cQRl_De"
      },
      "outputs": [],
      "source": []
    },
    {
      "cell_type": "markdown",
      "source": [
        "# Intro colab \n"
      ],
      "metadata": {
        "id": "hMIT7t-8mQFC"
      }
    },
    {
      "cell_type": "markdown",
      "source": [
        "Importamos la libreria y verficamos la versión"
      ],
      "metadata": {
        "id": "M0Sl8oqKnvRv"
      }
    },
    {
      "cell_type": "code",
      "source": [
        "import numpy as np\n",
        "print(np.__version__)"
      ],
      "metadata": {
        "colab": {
          "base_uri": "https://localhost:8080/"
        },
        "id": "8vwM_WRlmef6",
        "outputId": "55581c07-3fa7-43a6-b7fe-86a788d5e314"
      },
      "execution_count": 7,
      "outputs": [
        {
          "output_type": "stream",
          "name": "stdout",
          "text": [
            "1.21.6\n"
          ]
        }
      ]
    },
    {
      "cell_type": "markdown",
      "source": [
        "creación de lista\n"
      ],
      "metadata": {
        "id": "JruaFswPoCPu"
      }
    },
    {
      "cell_type": "code",
      "source": [
        "mi_lista = [1, 2, 3, 4, 5, 6]\n",
        "type(mi_lista)"
      ],
      "metadata": {
        "colab": {
          "base_uri": "https://localhost:8080/"
        },
        "id": "p2prtkJToGQg",
        "outputId": "2293b3df-5fba-4169-bf6a-6e2cf4488ecf"
      },
      "execution_count": 8,
      "outputs": [
        {
          "output_type": "execute_result",
          "data": {
            "text/plain": [
              "list"
            ]
          },
          "metadata": {},
          "execution_count": 8
        }
      ]
    },
    {
      "cell_type": "code",
      "source": [
        "mi_array = np.array(mi_lista)\n",
        "display(\n",
        "  type(mi_array),\n",
        "  mi_array,\n",
        "  mi_array.shape,\n",
        "  mi_array.ndim\n",
        ")"
      ],
      "metadata": {
        "colab": {
          "base_uri": "https://localhost:8080/",
          "height": 89
        },
        "id": "WPZI3Vd9odwW",
        "outputId": "1cc5e200-8cad-4419-f5db-6caf87020e4a"
      },
      "execution_count": 10,
      "outputs": [
        {
          "output_type": "display_data",
          "data": {
            "text/plain": [
              "numpy.ndarray"
            ]
          },
          "metadata": {}
        },
        {
          "output_type": "display_data",
          "data": {
            "text/plain": [
              "array([1, 2, 3, 4, 5, 6])"
            ]
          },
          "metadata": {}
        },
        {
          "output_type": "display_data",
          "data": {
            "text/plain": [
              "(6,)"
            ]
          },
          "metadata": {}
        },
        {
          "output_type": "display_data",
          "data": {
            "text/plain": [
              "1"
            ]
          },
          "metadata": {}
        }
      ]
    },
    {
      "cell_type": "code",
      "source": [
        "mi_array_dato = np.array(48)\n",
        "display(\n",
        "  type(mi_array_dato),\n",
        "  mi_array_dato,\n",
        "  mi_array_dato.shape,\n",
        "  mi_array_dato.ndim\n",
        ")"
      ],
      "metadata": {
        "colab": {
          "base_uri": "https://localhost:8080/",
          "height": 89
        },
        "id": "nGmilKNRpa5D",
        "outputId": "5e23a8ed-1649-4d07-f6eb-32e1861da65f"
      },
      "execution_count": 11,
      "outputs": [
        {
          "output_type": "display_data",
          "data": {
            "text/plain": [
              "numpy.ndarray"
            ]
          },
          "metadata": {}
        },
        {
          "output_type": "display_data",
          "data": {
            "text/plain": [
              "array(48)"
            ]
          },
          "metadata": {}
        },
        {
          "output_type": "display_data",
          "data": {
            "text/plain": [
              "()"
            ]
          },
          "metadata": {}
        },
        {
          "output_type": "display_data",
          "data": {
            "text/plain": [
              "0"
            ]
          },
          "metadata": {}
        }
      ]
    },
    {
      "cell_type": "code",
      "source": [
        "mi_matriz = np.array((mi_lista, mi_lista))\n",
        "display(\n",
        "  type(mi_matriz),\n",
        "  mi_matriz,\n",
        "  mi_matriz.shape,\n",
        "  mi_matriz.ndim\n",
        ")"
      ],
      "metadata": {
        "colab": {
          "base_uri": "https://localhost:8080/",
          "height": 107
        },
        "id": "ECDfKAcMp16P",
        "outputId": "d0381d9d-c2be-4e24-807c-93bd8ba66914"
      },
      "execution_count": 13,
      "outputs": [
        {
          "output_type": "display_data",
          "data": {
            "text/plain": [
              "numpy.ndarray"
            ]
          },
          "metadata": {}
        },
        {
          "output_type": "display_data",
          "data": {
            "text/plain": [
              "array([[1, 2, 3, 4, 5, 6],\n",
              "       [1, 2, 3, 4, 5, 6]])"
            ]
          },
          "metadata": {}
        },
        {
          "output_type": "display_data",
          "data": {
            "text/plain": [
              "(2, 6)"
            ]
          },
          "metadata": {}
        },
        {
          "output_type": "display_data",
          "data": {
            "text/plain": [
              "2"
            ]
          },
          "metadata": {}
        }
      ]
    },
    {
      "cell_type": "code",
      "source": [
        "mi_matriz_3d = np.array([[mi_lista, mi_lista],[mi_lista, mi_lista]])\n",
        "display(\n",
        "  type(mi_matriz_3d),\n",
        "  mi_matriz_3d,\n",
        "  mi_matriz_3d.shape,\n",
        "  mi_matriz_3d.ndim\n",
        ")"
      ],
      "metadata": {
        "colab": {
          "base_uri": "https://localhost:8080/",
          "height": 160
        },
        "id": "V6S4MG45qgkj",
        "outputId": "d65ed75d-428f-452f-d82e-6e4278d78afe"
      },
      "execution_count": 14,
      "outputs": [
        {
          "output_type": "display_data",
          "data": {
            "text/plain": [
              "numpy.ndarray"
            ]
          },
          "metadata": {}
        },
        {
          "output_type": "display_data",
          "data": {
            "text/plain": [
              "array([[[1, 2, 3, 4, 5, 6],\n",
              "        [1, 2, 3, 4, 5, 6]],\n",
              "\n",
              "       [[1, 2, 3, 4, 5, 6],\n",
              "        [1, 2, 3, 4, 5, 6]]])"
            ]
          },
          "metadata": {}
        },
        {
          "output_type": "display_data",
          "data": {
            "text/plain": [
              "(2, 2, 6)"
            ]
          },
          "metadata": {}
        },
        {
          "output_type": "display_data",
          "data": {
            "text/plain": [
              "3"
            ]
          },
          "metadata": {}
        }
      ]
    },
    {
      "cell_type": "code",
      "source": [
        "mi_matriz_n = np.array(mi_lista, ndmin=5)\n",
        "display(\n",
        "  type(mi_matriz_n),\n",
        "  mi_matriz_n,\n",
        "  mi_matriz_n.shape,\n",
        "  mi_matriz_n.ndim\n",
        ")"
      ],
      "metadata": {
        "colab": {
          "base_uri": "https://localhost:8080/",
          "height": 89
        },
        "id": "FjZe85V0rEhW",
        "outputId": "76d392a4-b5aa-4bc4-aad5-11e800b6ec1d"
      },
      "execution_count": 16,
      "outputs": [
        {
          "output_type": "display_data",
          "data": {
            "text/plain": [
              "numpy.ndarray"
            ]
          },
          "metadata": {}
        },
        {
          "output_type": "display_data",
          "data": {
            "text/plain": [
              "array([[[[[1, 2, 3, 4, 5, 6]]]]])"
            ]
          },
          "metadata": {}
        },
        {
          "output_type": "display_data",
          "data": {
            "text/plain": [
              "(1, 1, 1, 1, 6)"
            ]
          },
          "metadata": {}
        },
        {
          "output_type": "display_data",
          "data": {
            "text/plain": [
              "5"
            ]
          },
          "metadata": {}
        }
      ]
    },
    {
      "cell_type": "code",
      "source": [
        "mis_ceros = np.zeros(5)\n",
        "mis_ceros\n"
      ],
      "metadata": {
        "colab": {
          "base_uri": "https://localhost:8080/"
        },
        "id": "DklxlPszrriu",
        "outputId": "08fd1b8c-f743-4bca-c01d-27a9ae4edcc2"
      },
      "execution_count": 17,
      "outputs": [
        {
          "output_type": "execute_result",
          "data": {
            "text/plain": [
              "array([0., 0., 0., 0., 0.])"
            ]
          },
          "metadata": {},
          "execution_count": 17
        }
      ]
    },
    {
      "cell_type": "code",
      "source": [
        "mis_unos = np.ones(3)\n",
        "mis_unos"
      ],
      "metadata": {
        "colab": {
          "base_uri": "https://localhost:8080/"
        },
        "id": "2tw8pVeqsGtB",
        "outputId": "c86f81da-6bc7-47df-f25c-0e301320f29c"
      },
      "execution_count": 18,
      "outputs": [
        {
          "output_type": "execute_result",
          "data": {
            "text/plain": [
              "array([1., 1., 1.])"
            ]
          },
          "metadata": {},
          "execution_count": 18
        }
      ]
    },
    {
      "cell_type": "code",
      "source": [
        "mi_rango = np.arange(10)\n",
        "mi_rango"
      ],
      "metadata": {
        "colab": {
          "base_uri": "https://localhost:8080/"
        },
        "id": "dipz4ZjqsVQp",
        "outputId": "d7bf3716-dfd2-4753-f779-e4cb4dee8a40"
      },
      "execution_count": 19,
      "outputs": [
        {
          "output_type": "execute_result",
          "data": {
            "text/plain": [
              "array([0, 1, 2, 3, 4, 5, 6, 7, 8, 9])"
            ]
          },
          "metadata": {},
          "execution_count": 19
        }
      ]
    },
    {
      "cell_type": "code",
      "source": [
        "mi_linspace = np.linspace(\n",
        "    start=1,\n",
        "    stop=5,\n",
        "    num=10,\n",
        "    endpoint=True\n",
        ")\n",
        "mi_linspace"
      ],
      "metadata": {
        "colab": {
          "base_uri": "https://localhost:8080/"
        },
        "id": "sQsAr9Lhsv2g",
        "outputId": "9577e480-0343-4a1b-a644-a6f9ce58ee0f"
      },
      "execution_count": 24,
      "outputs": [
        {
          "output_type": "execute_result",
          "data": {
            "text/plain": [
              "array([1.        , 1.44444444, 1.88888889, 2.33333333, 2.77777778,\n",
              "       3.22222222, 3.66666667, 4.11111111, 4.55555556, 5.        ])"
            ]
          },
          "metadata": {},
          "execution_count": 24
        }
      ]
    },
    {
      "cell_type": "code",
      "source": [
        "mis_aleatorios_1 = np.random.random(size=(5,3))\n",
        "mis_aleatorios_1"
      ],
      "metadata": {
        "colab": {
          "base_uri": "https://localhost:8080/"
        },
        "id": "K38DM1Ngtl4Z",
        "outputId": "56b02141-34a3-41d6-e737-8ceda3b03779"
      },
      "execution_count": 26,
      "outputs": [
        {
          "output_type": "execute_result",
          "data": {
            "text/plain": [
              "array([[0.25273363, 0.77181288, 0.87004221],\n",
              "       [0.78475099, 0.70185905, 0.13545108],\n",
              "       [0.18435947, 0.55422084, 0.92238059],\n",
              "       [0.49818364, 0.45061967, 0.53060187],\n",
              "       [0.1696677 , 0.97146657, 0.96088878]])"
            ]
          },
          "metadata": {},
          "execution_count": 26
        }
      ]
    },
    {
      "cell_type": "code",
      "source": [
        "mis_aleatorios_2 = np.random.normal(\n",
        "    loc=1,\n",
        "    scale=2,\n",
        "    size=(5,5)\n",
        ")\n",
        "mis_aleatorios_2"
      ],
      "metadata": {
        "colab": {
          "base_uri": "https://localhost:8080/"
        },
        "id": "sKGtCrlJuC7T",
        "outputId": "0a2530b6-3838-409b-d293-c47d021d519f"
      },
      "execution_count": 28,
      "outputs": [
        {
          "output_type": "execute_result",
          "data": {
            "text/plain": [
              "array([[-1.0624809 ,  2.92588754,  1.50911327, -0.77993455,  3.51064278],\n",
              "       [ 2.54375305, -3.81985824,  0.55274723,  0.24671432, -0.55946726],\n",
              "       [-0.97667993,  1.38970337, -1.13419311,  2.59061404,  1.7092851 ],\n",
              "       [-1.57649837, -3.20259759, -0.02030079, -1.46807758,  0.41212697],\n",
              "       [ 0.09076385,  0.44814535,  1.02250435, -1.27144341, -0.41381333]])"
            ]
          },
          "metadata": {},
          "execution_count": 28
        }
      ]
    },
    {
      "cell_type": "code",
      "source": [
        "mis_aleatorios_3 = np.random.uniform(\n",
        "    low=1,\n",
        "    high=10,\n",
        "    size=(5,5)\n",
        ")\n",
        "mis_aleatorios_3"
      ],
      "metadata": {
        "colab": {
          "base_uri": "https://localhost:8080/"
        },
        "id": "oWuN15EbvDmS",
        "outputId": "90c600d6-3cca-4c09-af10-821bbb51fcd2"
      },
      "execution_count": 29,
      "outputs": [
        {
          "output_type": "execute_result",
          "data": {
            "text/plain": [
              "array([[4.13750778, 5.462673  , 6.6362735 , 1.38721972, 2.16358156],\n",
              "       [7.21781082, 2.5885827 , 7.36374478, 8.86931014, 4.47875507],\n",
              "       [8.82834116, 6.68140215, 1.21837229, 4.19417184, 8.13977182],\n",
              "       [8.25186026, 7.35010554, 1.13776469, 5.04024404, 9.33286086],\n",
              "       [2.25711941, 2.79392575, 4.57419049, 8.19542071, 1.35780399]])"
            ]
          },
          "metadata": {},
          "execution_count": 29
        }
      ]
    },
    {
      "cell_type": "code",
      "source": [
        "display(\n",
        "    mi_array,\n",
        "    mi_array[0],\n",
        "    mi_array[2: 4],\n",
        "    mi_array[:-2]\n",
        ")"
      ],
      "metadata": {
        "colab": {
          "base_uri": "https://localhost:8080/",
          "height": 89
        },
        "id": "ZF5UYxPEvgqG",
        "outputId": "a782a9b4-2784-430b-ca5a-5c5d52a7606a"
      },
      "execution_count": 33,
      "outputs": [
        {
          "output_type": "display_data",
          "data": {
            "text/plain": [
              "array([1, 2, 3, 4, 5, 6])"
            ]
          },
          "metadata": {}
        },
        {
          "output_type": "display_data",
          "data": {
            "text/plain": [
              "1"
            ]
          },
          "metadata": {}
        },
        {
          "output_type": "display_data",
          "data": {
            "text/plain": [
              "array([3, 4])"
            ]
          },
          "metadata": {}
        },
        {
          "output_type": "display_data",
          "data": {
            "text/plain": [
              "array([1, 2, 3, 4])"
            ]
          },
          "metadata": {}
        }
      ]
    },
    {
      "cell_type": "code",
      "source": [
        "mi_array.reshape(2,3)"
      ],
      "metadata": {
        "colab": {
          "base_uri": "https://localhost:8080/"
        },
        "id": "uEoX2pXzwJ-G",
        "outputId": "c8f5bb97-cbe7-49fd-af42-0b8feab33701"
      },
      "execution_count": 34,
      "outputs": [
        {
          "output_type": "execute_result",
          "data": {
            "text/plain": [
              "array([[1, 2, 3],\n",
              "       [4, 5, 6]])"
            ]
          },
          "metadata": {},
          "execution_count": 34
        }
      ]
    },
    {
      "cell_type": "code",
      "source": [
        "mi_array"
      ],
      "metadata": {
        "colab": {
          "base_uri": "https://localhost:8080/"
        },
        "id": "HG6_NGwywV7e",
        "outputId": "692d2406-9fd7-4be0-e79b-ac7bd7c28b61"
      },
      "execution_count": 35,
      "outputs": [
        {
          "output_type": "execute_result",
          "data": {
            "text/plain": [
              "array([1, 2, 3, 4, 5, 6])"
            ]
          },
          "metadata": {},
          "execution_count": 35
        }
      ]
    },
    {
      "cell_type": "code",
      "source": [
        "a = np.array([1,2,3])\n",
        "b = np.array([11,12,13])\n",
        "ab = np.column_stack((a,b))\n",
        "display(\n",
        "    a,\n",
        "    b,\n",
        "    ab\n",
        ")"
      ],
      "metadata": {
        "colab": {
          "base_uri": "https://localhost:8080/",
          "height": 107
        },
        "id": "QMA7uKrGwpUu",
        "outputId": "2fa03253-e524-4ede-c4ce-3a612775546d"
      },
      "execution_count": 38,
      "outputs": [
        {
          "output_type": "display_data",
          "data": {
            "text/plain": [
              "array([1, 2, 3])"
            ]
          },
          "metadata": {}
        },
        {
          "output_type": "display_data",
          "data": {
            "text/plain": [
              "array([11, 12, 13])"
            ]
          },
          "metadata": {}
        },
        {
          "output_type": "display_data",
          "data": {
            "text/plain": [
              "array([[ 1, 11],\n",
              "       [ 2, 12],\n",
              "       [ 3, 13]])"
            ]
          },
          "metadata": {}
        }
      ]
    },
    {
      "cell_type": "code",
      "source": [
        "base = np.random.random(size=15)\n",
        "base *= 100\n",
        "display(\n",
        "  base,\n",
        "  np.mean(base),\n",
        "  np.median(base),\n",
        "  np.sum(base),\n",
        "  np.var(base),\n",
        "  np.std(base)\n",
        ")\n"
      ],
      "metadata": {
        "colab": {
          "base_uri": "https://localhost:8080/",
          "height": 160
        },
        "id": "sn6_pAIPxgCn",
        "outputId": "47ca9d94-6a0d-46d8-e457-04b42e0ff302"
      },
      "execution_count": 42,
      "outputs": [
        {
          "output_type": "display_data",
          "data": {
            "text/plain": [
              "array([ 6.03536731, 74.98811441, 35.9948419 , 28.04748543,  8.14201123,\n",
              "       43.51619785, 11.99942812,  2.02186441, 34.03137665, 48.44303572,\n",
              "       47.17131399, 92.29926765, 14.19537344,  8.05087253, 88.12278678])"
            ]
          },
          "metadata": {}
        },
        {
          "output_type": "display_data",
          "data": {
            "text/plain": [
              "36.203955828303336"
            ]
          },
          "metadata": {}
        },
        {
          "output_type": "display_data",
          "data": {
            "text/plain": [
              "34.03137665240854"
            ]
          },
          "metadata": {}
        },
        {
          "output_type": "display_data",
          "data": {
            "text/plain": [
              "543.05933742455"
            ]
          },
          "metadata": {}
        },
        {
          "output_type": "display_data",
          "data": {
            "text/plain": [
              "831.3442345070335"
            ]
          },
          "metadata": {}
        },
        {
          "output_type": "display_data",
          "data": {
            "text/plain": [
              "28.833040673973905"
            ]
          },
          "metadata": {}
        }
      ]
    },
    {
      "cell_type": "code",
      "source": [
        "ma = np.random.random(size=(5,5))\n",
        "mb = np.random.random(size=(5,5))\n",
        "ma + mb"
      ],
      "metadata": {
        "colab": {
          "base_uri": "https://localhost:8080/"
        },
        "id": "UytwlPifyveM",
        "outputId": "015e79a5-62f2-4eea-c63a-6d35deabccfc"
      },
      "execution_count": 46,
      "outputs": [
        {
          "output_type": "execute_result",
          "data": {
            "text/plain": [
              "array([[1.17798752, 1.11180856, 1.20850267, 0.89735732, 1.80402801],\n",
              "       [0.64576386, 0.92645461, 1.2167116 , 0.93903104, 1.108284  ],\n",
              "       [0.66344527, 0.77005885, 0.92644869, 1.39655477, 1.23084332],\n",
              "       [1.21297335, 0.79832763, 0.71241766, 1.25423486, 1.52985132],\n",
              "       [1.07883902, 1.36850581, 0.85943393, 0.32225585, 1.27262726]])"
            ]
          },
          "metadata": {},
          "execution_count": 46
        }
      ]
    },
    {
      "cell_type": "code",
      "source": [
        "np.arange(10) > 3"
      ],
      "metadata": {
        "colab": {
          "base_uri": "https://localhost:8080/"
        },
        "id": "5wjt77HxzMfi",
        "outputId": "bab1c297-fceb-49d8-c0a3-40c3ea33093e"
      },
      "execution_count": 47,
      "outputs": [
        {
          "output_type": "execute_result",
          "data": {
            "text/plain": [
              "array([False, False, False, False,  True,  True,  True,  True,  True,\n",
              "        True])"
            ]
          },
          "metadata": {},
          "execution_count": 47
        }
      ]
    },
    {
      "cell_type": "code",
      "source": [
        "np.random.random(size=(10)) > 0.5"
      ],
      "metadata": {
        "colab": {
          "base_uri": "https://localhost:8080/"
        },
        "id": "SLLLQtdwzaNq",
        "outputId": "6cbb5e19-693c-44f8-847c-ae3eb43a090d"
      },
      "execution_count": 53,
      "outputs": [
        {
          "output_type": "execute_result",
          "data": {
            "text/plain": [
              "array([ True, False,  True, False,  True, False,  True,  True,  True,\n",
              "       False])"
            ]
          },
          "metadata": {},
          "execution_count": 53
        }
      ]
    },
    {
      "cell_type": "code",
      "source": [
        "ba = np.random.random(size=(10)) > 0.5\n",
        "bb = np.random.random(size=(10)) > 0.5\n",
        "display(\n",
        "    ba,\n",
        "    bb,\n",
        "    np.logical_and(ba, bb)\n",
        ")"
      ],
      "metadata": {
        "colab": {
          "base_uri": "https://localhost:8080/",
          "height": 125
        },
        "id": "bsXbrgkHzzJF",
        "outputId": "d84f0191-1d35-4ba2-8938-7b4b45f14e14"
      },
      "execution_count": 55,
      "outputs": [
        {
          "output_type": "display_data",
          "data": {
            "text/plain": [
              "array([False, False, False, False,  True,  True, False,  True,  True,\n",
              "       False])"
            ]
          },
          "metadata": {}
        },
        {
          "output_type": "display_data",
          "data": {
            "text/plain": [
              "array([ True,  True, False, False, False,  True,  True,  True, False,\n",
              "       False])"
            ]
          },
          "metadata": {}
        },
        {
          "output_type": "display_data",
          "data": {
            "text/plain": [
              "array([False, False, False, False, False,  True, False,  True, False,\n",
              "       False])"
            ]
          },
          "metadata": {}
        }
      ]
    },
    {
      "cell_type": "code",
      "source": [
        "for e in mi_array:\n",
        "  print(e)"
      ],
      "metadata": {
        "colab": {
          "base_uri": "https://localhost:8080/"
        },
        "id": "Hx3M2lXj0YQN",
        "outputId": "ee5a1fa6-79bc-4f2c-e610-436165a931d4"
      },
      "execution_count": 57,
      "outputs": [
        {
          "output_type": "stream",
          "name": "stdout",
          "text": [
            "1\n",
            "2\n",
            "3\n",
            "4\n",
            "5\n",
            "6\n"
          ]
        }
      ]
    },
    {
      "cell_type": "code",
      "source": [
        "for e in mi_matriz:\n",
        "  print(e)"
      ],
      "metadata": {
        "colab": {
          "base_uri": "https://localhost:8080/"
        },
        "id": "-_eL5qaq0qMk",
        "outputId": "14ca10d8-82f7-491d-d585-c225d20fb32a"
      },
      "execution_count": 58,
      "outputs": [
        {
          "output_type": "stream",
          "name": "stdout",
          "text": [
            "[1 2 3 4 5 6]\n",
            "[1 2 3 4 5 6]\n"
          ]
        }
      ]
    },
    {
      "cell_type": "code",
      "source": [
        "for e in np.nditer(mi_matriz):\n",
        "  print(e)\n",
        "  "
      ],
      "metadata": {
        "colab": {
          "base_uri": "https://localhost:8080/"
        },
        "id": "fUznB25g0ykJ",
        "outputId": "abf87b04-9ecf-439f-8218-42b22c105f2c"
      },
      "execution_count": 60,
      "outputs": [
        {
          "output_type": "stream",
          "name": "stdout",
          "text": [
            "1\n",
            "2\n",
            "3\n",
            "4\n",
            "5\n",
            "6\n",
            "1\n",
            "2\n",
            "3\n",
            "4\n",
            "5\n",
            "6\n"
          ]
        }
      ]
    }
  ]
}